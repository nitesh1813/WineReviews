{
 "cells": [
  {
   "cell_type": "code",
   "execution_count": 1,
   "metadata": {
    "collapsed": false
   },
   "outputs": [
    {
     "name": "stderr",
     "output_type": "stream",
     "text": [
      "D:\\ProgramData\\Anaconda3\\lib\\site-packages\\gensim\\utils.py:865: UserWarning: detected Windows; aliasing chunkize to chunkize_serial\n",
      "  warnings.warn(\"detected Windows; aliasing chunkize to chunkize_serial\")\n",
      "D:\\ProgramData\\Anaconda3\\lib\\site-packages\\sklearn\\cross_validation.py:41: DeprecationWarning: This module was deprecated in version 0.18 in favor of the model_selection module into which all the refactored classes and functions are moved. Also note that the interface of the new CV iterators are different from that of this module. This module will be removed in 0.20.\n",
      "  \"This module will be removed in 0.20.\", DeprecationWarning)\n"
     ]
    }
   ],
   "source": [
    "from collections import Counter\n",
    "import numpy as np\n",
    "import nltk\n",
    "import re\n",
    "import sklearn.manifold\n",
    "import multiprocessing\n",
    "import pandas as pd\n",
    "import gensim\n",
    "import gensim.models.word2vec as w2v\n",
    "import xgboost as xgb\n",
    "from sklearn import linear_model"
   ]
  },
  {
   "cell_type": "code",
   "execution_count": 2,
   "metadata": {
    "collapsed": false
   },
   "outputs": [],
   "source": [
    "data = pd.read_csv('winemag-data_first150k.csv')\n",
    "data=data.dropna(subset=['price'])\n",
    "data=data[data.price<200]"
   ]
  },
  {
   "cell_type": "code",
   "execution_count": 3,
   "metadata": {
    "collapsed": false
   },
   "outputs": [],
   "source": [
    "labels = data['variety']\n",
    "descriptions = data['description']"
   ]
  },
  {
   "cell_type": "code",
   "execution_count": 72,
   "metadata": {
    "collapsed": false
   },
   "outputs": [
    {
     "name": "stdout",
     "output_type": "stream",
     "text": [
      "Mean:  31.272754605185966  Variance:  559.8094559754887\n"
     ]
    }
   ],
   "source": [
    "mean = sum([int(d['price']) for a,d in data.iterrows()])/len(data)\n",
    "variance = sum([(int(d['price']) - mean)**2 for a,d in data.iterrows()])/len(data)\n",
    "\n",
    "print('Mean: ', mean, ' Variance: ', variance)\n"
   ]
  },
  {
   "cell_type": "code",
   "execution_count": 4,
   "metadata": {
    "collapsed": false
   },
   "outputs": [],
   "source": [
    "corpus_raw = \"\"\n",
    "for description in descriptions:\n",
    "    corpus_raw += description"
   ]
  },
  {
   "cell_type": "code",
   "execution_count": 5,
   "metadata": {
    "collapsed": false
   },
   "outputs": [],
   "source": [
    "tokenizer = nltk.data.load('tokenizers/punkt/english.pickle')"
   ]
  },
  {
   "cell_type": "code",
   "execution_count": 6,
   "metadata": {
    "collapsed": false
   },
   "outputs": [],
   "source": [
    "raw_sentences = tokenizer.tokenize(corpus_raw)"
   ]
  },
  {
   "cell_type": "code",
   "execution_count": 7,
   "metadata": {
    "collapsed": true
   },
   "outputs": [],
   "source": [
    "def sentence_to_wordlist(raw):\n",
    "    clean = re.sub(\"[^a-zA-Z]\",\" \", raw)\n",
    "    words = clean.split()\n",
    "    return words"
   ]
  },
  {
   "cell_type": "code",
   "execution_count": 8,
   "metadata": {
    "collapsed": false
   },
   "outputs": [],
   "source": [
    "sentences = []\n",
    "for raw_sentence in raw_sentences:\n",
    "    if len(raw_sentence) > 0:\n",
    "        sentences.append(sentence_to_wordlist(raw_sentence))"
   ]
  },
  {
   "cell_type": "code",
   "execution_count": 9,
   "metadata": {
    "collapsed": false
   },
   "outputs": [
    {
     "name": "stdout",
     "output_type": "stream",
     "text": [
      "The wine corpus contains 5,650,564 tokens\n"
     ]
    }
   ],
   "source": [
    "token_count = sum([len(sentence) for sentence in sentences])\n",
    "print('The wine corpus contains {0:,} tokens'.format(token_count))"
   ]
  },
  {
   "cell_type": "code",
   "execution_count": 10,
   "metadata": {
    "collapsed": false
   },
   "outputs": [],
   "source": [
    "num_features = 50\n",
    "min_word_count = 10\n",
    "num_workers = multiprocessing.cpu_count()\n",
    "context_size = 10\n",
    "downsampling = 1e-3\n",
    "seed=1993"
   ]
  },
  {
   "cell_type": "code",
   "execution_count": 11,
   "metadata": {
    "collapsed": false
   },
   "outputs": [],
   "source": [
    "wine2vec = w2v.Word2Vec(\n",
    "    sg=1,\n",
    "    seed=seed,\n",
    "    workers=num_workers,\n",
    "    size=num_features,\n",
    "    min_count=min_word_count,\n",
    "    window=context_size,\n",
    "    sample=downsampling\n",
    ")"
   ]
  },
  {
   "cell_type": "code",
   "execution_count": 12,
   "metadata": {
    "collapsed": true
   },
   "outputs": [],
   "source": [
    "wine2vec.build_vocab(sentences)"
   ]
  },
  {
   "cell_type": "code",
   "execution_count": 13,
   "metadata": {
    "collapsed": false
   },
   "outputs": [
    {
     "name": "stdout",
     "output_type": "stream",
     "text": [
      "Word2Vec vocabulary length: 10970\n",
      "241132\n"
     ]
    }
   ],
   "source": [
    "print('Word2Vec vocabulary length:', len(wine2vec.wv.vocab))\n",
    "print(wine2vec.corpus_count)"
   ]
  },
  {
   "cell_type": "code",
   "execution_count": 14,
   "metadata": {
    "collapsed": false
   },
   "outputs": [
    {
     "data": {
      "text/plain": [
       "20361606"
      ]
     },
     "execution_count": 14,
     "metadata": {},
     "output_type": "execute_result"
    }
   ],
   "source": [
    "wine2vec.train(sentences, total_examples=wine2vec.corpus_count, epochs=wine2vec.iter)"
   ]
  },
  {
   "cell_type": "code",
   "execution_count": null,
   "metadata": {
    "collapsed": false
   },
   "outputs": [],
   "source": []
  },
  {
   "cell_type": "code",
   "execution_count": null,
   "metadata": {
    "collapsed": false
   },
   "outputs": [],
   "source": [
    "index = gensim.matutils.Dense2Corpus(wine2vec.wv.syn0); "
   ]
  },
  {
   "cell_type": "code",
   "execution_count": 15,
   "metadata": {
    "collapsed": false
   },
   "outputs": [],
   "source": [
    "provinces = set()\n",
    "regions = set()\n",
    "varieties = set()\n",
    "wineries = set()\n",
    "\n",
    "for a,d in data.iterrows():\n",
    "    provinces.add(d['province'])\n",
    "    regions.add(d['region_1'])\n",
    "    varieties.add(d['variety'])\n",
    "    wineries.add(d['winery'])\n",
    "    \n",
    "    \n",
    "province_dict = {p: i for p,i in zip(provinces, range(len(provinces)))}\n",
    "region_dict = {r: i for r,i in zip(regions, range(len(regions)))}\n",
    "variety_dict = {v: i for v,i in zip(varieties, range(len(varieties)))}\n",
    "winery_dict = {w: i for w,i in zip(wineries, range(len(wineries)))}"
   ]
  },
  {
   "cell_type": "code",
   "execution_count": 35,
   "metadata": {
    "collapsed": true
   },
   "outputs": [],
   "source": [
    "def feature2(datum):\n",
    "    feat = [0] * (len(provinces) + len(regions)+ len(varieties))\n",
    "    feat[province_dict[datum['province']]] = 1\n",
    "    feat[region_dict[datum['region_1']]+len(provinces)] = 1\n",
    "    feat[variety_dict[datum['variety']]+len(provinces)+len(regions)] = 1\n",
    "#     feat[winery_dict[datum['winery']]+len(provinces)+len(regions)+len(varieties)] = 1\n",
    "    feat.append(1)\n",
    "    return feat"
   ]
  },
  {
   "cell_type": "code",
   "execution_count": 17,
   "metadata": {
    "collapsed": false
   },
   "outputs": [
    {
     "data": {
      "text/plain": [
       "array([ 0.08857089, -0.02673696, -0.29440403, -0.11652523, -0.0165947 ,\n",
       "        0.34733692,  0.12119724, -0.13085279, -0.06005537,  0.47735712,\n",
       "       -0.29315394,  0.09941099, -0.22264618, -0.05525788,  0.03922538,\n",
       "       -0.32957935, -0.07000276,  0.13175999,  0.19198187, -0.39061537,\n",
       "        0.00567096, -0.09007689, -0.37076762, -0.05523124,  0.06314998,\n",
       "       -0.06796336,  0.1323534 , -0.05944381, -0.06760232,  0.33408388,\n",
       "        0.34509084,  0.13783219,  0.24588385,  0.14711963, -0.34159037,\n",
       "       -0.05395457,  0.07144741, -0.23288313,  0.14549492, -0.01733204,\n",
       "       -0.16669391,  0.13092579,  0.15604024, -0.428776  ,  0.34741983,\n",
       "       -0.087455  ,  0.54692185,  0.02605283, -0.1368254 ,  0.24426316], dtype=float32)"
      ]
     },
     "execution_count": 17,
     "metadata": {},
     "output_type": "execute_result"
    }
   ],
   "source": [
    "wine2vec['wine']"
   ]
  },
  {
   "cell_type": "code",
   "execution_count": 18,
   "metadata": {
    "collapsed": false
   },
   "outputs": [],
   "source": [
    "def getdocvector(sentence):\n",
    "    sentence=sentence.split()\n",
    "#     print(sentence)\n",
    "    vec=np.zeros((1,50))\n",
    "    total=0\n",
    "    for word in sentence:\n",
    "        try:\n",
    "            vec+=wine2vec[word].reshape(1,50)\n",
    "            total+=1\n",
    "        except:pass\n",
    "        \n",
    "#     print(vec)\n",
    "    if total!=0:\n",
    "        vec=vec*1.0/total\n",
    "    return vec[0]"
   ]
  },
  {
   "cell_type": "code",
   "execution_count": null,
   "metadata": {
    "collapsed": false
   },
   "outputs": [],
   "source": [
    "a=getdocvector('wine')\n",
    "a"
   ]
  },
  {
   "cell_type": "code",
   "execution_count": 19,
   "metadata": {
    "collapsed": false
   },
   "outputs": [],
   "source": [
    "# train = descriptions[:2*len(data)//3]\n",
    "# valid = descriptions[2*len(data)//3:]\n",
    "train = data[:2*len(data)//3]\n",
    "valid = data[2*len(data)//3:]\n",
    "# for x in train:\n",
    "#     print (x)"
   ]
  },
  {
   "cell_type": "code",
   "execution_count": 34,
   "metadata": {
    "collapsed": false
   },
   "outputs": [
    {
     "name": "stdout",
     "output_type": "stream",
     "text": [
      "   Unnamed: 0 country                                        description  \\\n",
      "2           2      US  Mac Watson honors the memory of a wine once ma...   \n",
      "\n",
      "                     designation  points  price    province        region_1  \\\n",
      "2  Special Selected Late Harvest      96   90.0  California  Knights Valley   \n",
      "\n",
      "  region_2          variety    winery  \n",
      "2   Sonoma  Sauvignon Blanc  Macauley  \n"
     ]
    },
    {
     "ename": "TypeError",
     "evalue": "'Series' objects are mutable, thus they cannot be hashed",
     "output_type": "error",
     "traceback": [
      "\u001b[0;31m---------------------------------------------------------------------------\u001b[0m",
      "\u001b[0;31mTypeError\u001b[0m                                 Traceback (most recent call last)",
      "\u001b[0;32m<ipython-input-34-d275be2acdb5>\u001b[0m in \u001b[0;36m<module>\u001b[0;34m()\u001b[0m\n\u001b[1;32m      2\u001b[0m \u001b[0mb\u001b[0m\u001b[1;33m=\u001b[0m\u001b[0mdata\u001b[0m\u001b[1;33m.\u001b[0m\u001b[0mloc\u001b[0m\u001b[1;33m[\u001b[0m\u001b[1;33m[\u001b[0m\u001b[1;36m2\u001b[0m\u001b[1;33m]\u001b[0m\u001b[1;33m]\u001b[0m\u001b[1;33m\u001b[0m\u001b[0m\n\u001b[1;32m      3\u001b[0m \u001b[0mprint\u001b[0m\u001b[1;33m(\u001b[0m\u001b[0mb\u001b[0m\u001b[1;33m)\u001b[0m\u001b[1;33m\u001b[0m\u001b[0m\n\u001b[0;32m----> 4\u001b[0;31m \u001b[0ma\u001b[0m\u001b[1;33m=\u001b[0m\u001b[0mfeature2\u001b[0m\u001b[1;33m(\u001b[0m\u001b[0mb\u001b[0m\u001b[1;33m)\u001b[0m\u001b[1;33m\u001b[0m\u001b[0m\n\u001b[0m",
      "\u001b[0;32m<ipython-input-16-e62f2dcd25c4>\u001b[0m in \u001b[0;36mfeature2\u001b[0;34m(datum)\u001b[0m\n\u001b[1;32m      1\u001b[0m \u001b[1;32mdef\u001b[0m \u001b[0mfeature2\u001b[0m\u001b[1;33m(\u001b[0m\u001b[0mdatum\u001b[0m\u001b[1;33m)\u001b[0m\u001b[1;33m:\u001b[0m\u001b[1;33m\u001b[0m\u001b[0m\n\u001b[1;32m      2\u001b[0m     \u001b[0mfeat\u001b[0m \u001b[1;33m=\u001b[0m \u001b[1;33m[\u001b[0m\u001b[1;36m0\u001b[0m\u001b[1;33m]\u001b[0m \u001b[1;33m*\u001b[0m \u001b[1;33m(\u001b[0m\u001b[0mlen\u001b[0m\u001b[1;33m(\u001b[0m\u001b[0mprovinces\u001b[0m\u001b[1;33m)\u001b[0m \u001b[1;33m+\u001b[0m \u001b[0mlen\u001b[0m\u001b[1;33m(\u001b[0m\u001b[0mregions\u001b[0m\u001b[1;33m)\u001b[0m\u001b[1;33m+\u001b[0m \u001b[0mlen\u001b[0m\u001b[1;33m(\u001b[0m\u001b[0mvarieties\u001b[0m\u001b[1;33m)\u001b[0m \u001b[1;33m+\u001b[0m \u001b[0mlen\u001b[0m\u001b[1;33m(\u001b[0m\u001b[0mwineries\u001b[0m\u001b[1;33m)\u001b[0m\u001b[1;33m)\u001b[0m\u001b[1;33m\u001b[0m\u001b[0m\n\u001b[0;32m----> 3\u001b[0;31m     \u001b[0mfeat\u001b[0m\u001b[1;33m[\u001b[0m\u001b[0mprovince_dict\u001b[0m\u001b[1;33m[\u001b[0m\u001b[0mdatum\u001b[0m\u001b[1;33m[\u001b[0m\u001b[1;34m'province'\u001b[0m\u001b[1;33m]\u001b[0m\u001b[1;33m]\u001b[0m\u001b[1;33m]\u001b[0m \u001b[1;33m=\u001b[0m \u001b[1;36m1\u001b[0m\u001b[1;33m\u001b[0m\u001b[0m\n\u001b[0m\u001b[1;32m      4\u001b[0m     \u001b[0mfeat\u001b[0m\u001b[1;33m[\u001b[0m\u001b[0mregion_dict\u001b[0m\u001b[1;33m[\u001b[0m\u001b[0mdatum\u001b[0m\u001b[1;33m[\u001b[0m\u001b[1;34m'region_1'\u001b[0m\u001b[1;33m]\u001b[0m\u001b[1;33m]\u001b[0m\u001b[1;33m+\u001b[0m\u001b[0mlen\u001b[0m\u001b[1;33m(\u001b[0m\u001b[0mprovinces\u001b[0m\u001b[1;33m)\u001b[0m\u001b[1;33m]\u001b[0m \u001b[1;33m=\u001b[0m \u001b[1;36m1\u001b[0m\u001b[1;33m\u001b[0m\u001b[0m\n\u001b[1;32m      5\u001b[0m     \u001b[0mfeat\u001b[0m\u001b[1;33m[\u001b[0m\u001b[0mvariety_dict\u001b[0m\u001b[1;33m[\u001b[0m\u001b[0mdatum\u001b[0m\u001b[1;33m[\u001b[0m\u001b[1;34m'variety'\u001b[0m\u001b[1;33m]\u001b[0m\u001b[1;33m]\u001b[0m\u001b[1;33m+\u001b[0m\u001b[0mlen\u001b[0m\u001b[1;33m(\u001b[0m\u001b[0mprovinces\u001b[0m\u001b[1;33m)\u001b[0m\u001b[1;33m+\u001b[0m\u001b[0mlen\u001b[0m\u001b[1;33m(\u001b[0m\u001b[0mregions\u001b[0m\u001b[1;33m)\u001b[0m\u001b[1;33m]\u001b[0m \u001b[1;33m=\u001b[0m \u001b[1;36m1\u001b[0m\u001b[1;33m\u001b[0m\u001b[0m\n",
      "\u001b[0;32mD:\\ProgramData\\Anaconda3\\lib\\site-packages\\pandas\\core\\generic.py\u001b[0m in \u001b[0;36m__hash__\u001b[0;34m(self)\u001b[0m\n\u001b[1;32m    829\u001b[0m     \u001b[1;32mdef\u001b[0m \u001b[0m__hash__\u001b[0m\u001b[1;33m(\u001b[0m\u001b[0mself\u001b[0m\u001b[1;33m)\u001b[0m\u001b[1;33m:\u001b[0m\u001b[1;33m\u001b[0m\u001b[0m\n\u001b[1;32m    830\u001b[0m         raise TypeError('{0!r} objects are mutable, thus they cannot be'\n\u001b[0;32m--> 831\u001b[0;31m                         ' hashed'.format(self.__class__.__name__))\n\u001b[0m\u001b[1;32m    832\u001b[0m \u001b[1;33m\u001b[0m\u001b[0m\n\u001b[1;32m    833\u001b[0m     \u001b[1;32mdef\u001b[0m \u001b[0m__iter__\u001b[0m\u001b[1;33m(\u001b[0m\u001b[0mself\u001b[0m\u001b[1;33m)\u001b[0m\u001b[1;33m:\u001b[0m\u001b[1;33m\u001b[0m\u001b[0m\n",
      "\u001b[0;31mTypeError\u001b[0m: 'Series' objects are mutable, thus they cannot be hashed"
     ]
    }
   ],
   "source": [
    "# a=feature2(data.loc[[2]])\n",
    "b=data.loc[[2]]\n",
    "# print(b)\n",
    "a=feature2(b)"
   ]
  },
  {
   "cell_type": "code",
   "execution_count": 36,
   "metadata": {
    "collapsed": false
   },
   "outputs": [],
   "source": [
    "# a=[getdocvector(train[0]).reshape(1,90000)]\n",
    "# a\n",
    "X_train=[np.concatenate((getdocvector(datum['description']),feature2(datum))) for a,datum in train.iterrows()]\n",
    "X_valid=[np.concatenate((getdocvector(datum['description']),feature2(datum)))for a,datum in valid.iterrows()]\n"
   ]
  },
  {
   "cell_type": "code",
   "execution_count": 37,
   "metadata": {
    "collapsed": false
   },
   "outputs": [
    {
     "name": "stdout",
     "output_type": "stream",
     "text": [
      "2302\n"
     ]
    }
   ],
   "source": [
    "y_train=data[:2*len(data)//3]['price']\n",
    "y_val=data[2*len(data)//3:]['price']\n",
    "print(len(X_train[0]))"
   ]
  },
  {
   "cell_type": "code",
   "execution_count": 67,
   "metadata": {
    "collapsed": false
   },
   "outputs": [
    {
     "name": "stdout",
     "output_type": "stream",
     "text": [
      "MSE:  213.0500414 Depth:  3 Eta:  0.1\n",
      "MSE:  195.609346751 Depth:  3 Eta:  0.5\n",
      "MSE:  185.942341032 Depth:  3 Eta:  0.3\n",
      "MSE:  212.140064608 Depth:  3 Eta:  0.7\n",
      "MSE:  188.390594616 Depth:  4 Eta:  0.1\n",
      "MSE:  188.803977265 Depth:  4 Eta:  0.5\n",
      "MSE:  177.089443449 Depth:  4 Eta:  0.3\n",
      "MSE:  216.56306033 Depth:  4 Eta:  0.7\n",
      "MSE:  174.536329118 Depth:  5 Eta:  0.1\n",
      "MSE:  194.586369661 Depth:  5 Eta:  0.5\n",
      "MSE:  176.06188205 Depth:  5 Eta:  0.3\n",
      "MSE:  216.886172529 Depth:  5 Eta:  0.7\n"
     ]
    }
   ],
   "source": [
    "dtrain=xgb.DMatrix(X_train,y_train)\n",
    "depth={3,4,5}\n",
    "eta={0.1,0.3,0.5,0.7}\n",
    "num_round = 10000\n",
    "for x in depth:\n",
    "    for y in eta:\n",
    "        \n",
    "        param = {'max_depth':x, 'eta':y, 'silent':1,}\n",
    "\n",
    "        bst = xgb.train(param, dtrain, num_round)\n",
    "        dtest=xgb.DMatrix(X_valid)\n",
    "        y_pred=bst.predict(dtest)\n",
    "        mse=sum([(x-y)**2 for x,y in zip(y_val,y_pred)])*1.0/len(y_pred)\n",
    "        print(\"MSE: \", mse, \"Depth: \", x, \"Eta: \",y)"
   ]
  },
  {
   "cell_type": "code",
   "execution_count": 62,
   "metadata": {
    "collapsed": false
   },
   "outputs": [],
   "source": [
    "dtest=xgb.DMatrix(X_valid)\n",
    "y_pred=bst.predict(dtest)"
   ]
  },
  {
   "cell_type": "code",
   "execution_count": 63,
   "metadata": {
    "collapsed": false
   },
   "outputs": [],
   "source": [
    "mse=sum([(x-y)**2 for x,y in zip(y_val,y_pred)])*1.0/len(y_pred)"
   ]
  },
  {
   "cell_type": "code",
   "execution_count": null,
   "metadata": {
    "collapsed": false
   },
   "outputs": [],
   "source": [
    "y_val"
   ]
  },
  {
   "cell_type": "code",
   "execution_count": 64,
   "metadata": {
    "collapsed": false
   },
   "outputs": [
    {
     "data": {
      "text/plain": [
       "176.06188205039527"
      ]
     },
     "execution_count": 64,
     "metadata": {},
     "output_type": "execute_result"
    }
   ],
   "source": [
    "mse"
   ]
  },
  {
   "cell_type": "code",
   "execution_count": 70,
   "metadata": {
    "collapsed": false
   },
   "outputs": [],
   "source": [
    "clf = linear_model.Ridge(1.0, fit_intercept=False)\n",
    "clf.fit(X_train, y_train)\n",
    "theta = clf.coef_\n",
    "predictions = clf.predict(X_valid)\n"
    "print('lol')\n"
   ]
  },
  {
   "cell_type": "code",
   "execution_count": 71,
   "metadata": {
    "collapsed": false
   },
   "outputs": [
    {
     "name": "stdout",
     "output_type": "stream",
     "text": [
      "Mean:  31.272754605185966  Variance:  559.8094559754887\n",
      "MSE:  291.422267445\n",
      "lol\n"
     ]
    }
   ],
   "source": [
    "mean = sum([int(d['price']) for a,d in data.iterrows()])/len(data)\n",
    "variance = sum([(int(d['price']) - mean)**2 for a,d in data.iterrows()])/len(data)\n",
    "\n",
    "print('Mean: ', mean, ' Variance: ', variance)\n",
    "\n",
    "mse = sum([(x-y)**2 for x,y in zip(predictions, y_val)])/len(predictions)\n",
    "print('MSE: ', mse)\n",
   
   ]
  },
  {
   "cell_type": "code",
   "execution_count": null,
   "metadata": {
    "collapsed": true
   },
   "outputs": [],
   "source": []
  }
 ],
 "metadata": {
  "kernelspec": {
   "display_name": "Python 3",
   "language": "python",
   "name": "python3"
  },
  "language_info": {
   "codemirror_mode": {
    "name": "ipython",
    "version": 3
   },
   "file_extension": ".py",
   "mimetype": "text/x-python",
   "name": "python",
   "nbconvert_exporter": "python",
   "pygments_lexer": "ipython3",
   "version": "3.6.0"
  }
 },
 "nbformat": 4,
 "nbformat_minor": 2
}
